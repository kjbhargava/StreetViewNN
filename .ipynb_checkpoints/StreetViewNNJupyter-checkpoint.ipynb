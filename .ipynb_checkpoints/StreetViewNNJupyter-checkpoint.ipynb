{
 "cells": [
  {
   "cell_type": "code",
   "execution_count": 91,
   "metadata": {},
   "outputs": [],
   "source": [
    "import cv2\n",
    "import numpy as np\n",
    "import pandas as pd\n",
    "import matplotlib.pyplot as plt\n",
    "from sklearn import preprocessing\n",
    "import warnings\n",
    "import os\n",
    "from os import listdir, getcwd\n",
    "from sklearn.model_selection import train_test_split\n",
    "from scipy.io import loadmat\n",
    "from skimage.color import rgb2gray\n",
    "#import tables"
   ]
  },
  {
   "cell_type": "code",
   "execution_count": 92,
   "metadata": {},
   "outputs": [],
   "source": [
    "dataPath = loadmat('../mtrainData/train_32x32.mat')"
   ]
  },
  {
   "cell_type": "code",
   "execution_count": 118,
   "metadata": {},
   "outputs": [
    {
     "name": "stdout",
     "output_type": "stream",
     "text": [
      "<class 'numpy.ndarray'>\n"
     ]
    },
    {
     "data": {
      "text/plain": [
       "32"
      ]
     },
     "execution_count": 118,
     "metadata": {},
     "output_type": "execute_result"
    }
   ],
   "source": [
    "x_train = dataPath['X']\n",
    "y_train = dataPath['y']\n",
    "print(type(x_train))\n",
    "len(x_train[:,:,:])"
   ]
  },
  {
   "cell_type": "code",
   "execution_count": 123,
   "metadata": {},
   "outputs": [],
   "source": [
    "new_train = np.zeros((73257, 32,32,3))"
   ]
  },
  {
   "cell_type": "code",
   "execution_count": 125,
   "metadata": {},
   "outputs": [],
   "source": [
    "for i in range(len(new_train)):\n",
    "    new_train[i] = x_train[:,:,:,i]"
   ]
  },
  {
   "cell_type": "code",
   "execution_count": 116,
   "metadata": {},
   "outputs": [
    {
     "data": {
      "text/plain": [
       "(32, 32, 3, 73257)"
      ]
     },
     "execution_count": 116,
     "metadata": {},
     "output_type": "execute_result"
    }
   ],
   "source": [
    "x_train.shape"
   ]
  },
  {
   "cell_type": "code",
   "execution_count": 114,
   "metadata": {},
   "outputs": [
    {
     "data": {
      "text/plain": [
       "32"
      ]
     },
     "execution_count": 114,
     "metadata": {},
     "output_type": "execute_result"
    },
    {
     "data": {
      "image/png": "[encoded data removed]",
      "text/plain": [
       "<Figure size 432x288 with 1 Axes>"
      ]
     },
     "metadata": {
      "needs_background": "light"
     },
     "output_type": "display_data"
    }
   ],
   "source": [
    "stop = 0\n",
    "gray = []\n",
    "for img in x_train:\n",
    "    #plt.imshow(img)\n",
    "    gray.append(rgb2gray(img))\n",
    "    plt.imshow(rgb2gray(img))\n",
    "    if stop >= 10:\n",
    "        break;\n",
    "    stop = stop +1\n",
    "    \n"
   ]
  },
  {
   "cell_type": "code",
   "execution_count": 95,
   "metadata": {},
   "outputs": [],
   "source": [
    "#turn rgb to grayscale\n",
    "#x_train_gray = np.array([rgb2gray(img) for img in x_train])"
   ]
  },
  {
   "cell_type": "code",
   "execution_count": 106,
   "metadata": {},
   "outputs": [
    {
     "data": {
      "text/plain": [
       "(32, 3)"
      ]
     },
     "execution_count": 106,
     "metadata": {},
     "output_type": "execute_result"
    }
   ],
   "source": [
    "x_train_gray[0].shape"
   ]
  },
  {
   "cell_type": "code",
   "execution_count": 97,
   "metadata": {},
   "outputs": [
    {
     "data": {
      "text/plain": [
       "array([[0.25348549, 0.2386702 , 0.24911137, ..., 0.3137102 , 0.32203569,\n",
       "        0.32933529],\n",
       "       [0.26350824, 0.24033686, 0.22607922, ..., 0.30128627, 0.31322706,\n",
       "        0.34313882],\n",
       "       [0.26236941, 0.24794275, 0.16914392, ..., 0.30419686, 0.31903255,\n",
       "        0.34918863],\n",
       "       ...,\n",
       "       [0.38824275, 0.37813686, 0.37085216, ..., 0.41858745, 0.41437529,\n",
       "        0.41185255],\n",
       "       [0.40980784, 0.40284353, 0.39725529, ..., 0.41747137, 0.41633255,\n",
       "        0.40484275],\n",
       "       [0.41595451, 0.40645255, 0.40788902, ..., 0.41634745, 0.41970353,\n",
       "        0.40426941]])"
      ]
     },
     "execution_count": 97,
     "metadata": {},
     "output_type": "execute_result"
    }
   ],
   "source": [
    "x_train_gray[:,:,1]"
   ]
  },
  {
   "cell_type": "code",
   "execution_count": 109,
   "metadata": {},
   "outputs": [
    {
     "name": "stdout",
     "output_type": "stream",
     "text": [
      "<class 'numpy.ndarray'>\n",
      "(32, 3)\n"
     ]
    }
   ],
   "source": [
    "print(type(gray[0]))\n",
    "print(gray[0].shape)"
   ]
  },
  {
   "cell_type": "code",
   "execution_count": 98,
   "metadata": {},
   "outputs": [],
   "source": [
    "#x_train[:,:,:,1]"
   ]
  },
  {
   "cell_type": "code",
   "execution_count": 111,
   "metadata": {},
   "outputs": [
    {
     "data": {
      "text/plain": [
       "<matplotlib.image.AxesImage at 0x27f033f2908>"
      ]
     },
     "execution_count": 111,
     "metadata": {},
     "output_type": "execute_result"
    },
    {
     "data": {
      "image/png": "[encoded data removed]",
      "text/plain": [
       "<Figure size 432x288 with 1 Axes>"
      ]
     },
     "metadata": {
      "needs_background": "light"
     },
     "output_type": "display_data"
    }
   ],
   "source": [
    "#view raw image (notice that it has an extra dimension)\n",
    "#first_Image = x_train[:,:,:,3]\n",
    "plt.gray()\n",
    "plt.imshow(gray[0])"
   ]
  },
  {
   "cell_type": "code",
   "execution_count": null,
   "metadata": {},
   "outputs": [],
   "source": [
    "#view raw image (notice that it has an extra dimension)\n",
    "first_Image = x_train[:,:,:,1]\n",
    "first_Image[:][:][0]\n",
    "plt.gray()\n",
    "plt.imshow(first_Image[:][:][1])"
   ]
  },
  {
   "cell_type": "code",
   "execution_count": null,
   "metadata": {},
   "outputs": [],
   "source": [
    "#View first grayscale image (notice that it has lost a dimension)\n",
    "second_Image = x_train_gray[:,:,:]\n",
    "print(second_Image.shape)\n",
    "plt.gray()\n",
    "plt.imshow(second_Image)"
   ]
  },
  {
   "cell_type": "code",
   "execution_count": null,
   "metadata": {},
   "outputs": [],
   "source": [
    "y_train[1]"
   ]
  }
 ],
 "metadata": {
  "kernelspec": {
   "display_name": "Python 3",
   "language": "python",
   "name": "python3"
  },
  "language_info": {
   "codemirror_mode": {
    "name": "ipython",
    "version": 3
   },
   "file_extension": ".py",
   "mimetype": "text/x-python",
   "name": "python",
   "nbconvert_exporter": "python",
   "pygments_lexer": "ipython3",
   "version": "3.6.8"
  }
 },
 "nbformat": 4,
 "nbformat_minor": 2
}
